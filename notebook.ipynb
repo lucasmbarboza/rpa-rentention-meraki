{
 "cells": [
  {
   "cell_type": "markdown",
   "id": "96815e73",
   "metadata": {},
   "source": [
    "## Install libaries"
   ]
  },
  {
   "cell_type": "code",
   "execution_count": 161,
   "id": "3661d48e",
   "metadata": {},
   "outputs": [
    {
     "name": "stdout",
     "output_type": "stream",
     "text": [
      "Requirement already satisfied: selenium in c:\\users\\lmendesb\\appdata\\local\\programs\\python\\python313\\lib\\site-packages (4.33.0)\n",
      "Requirement already satisfied: urllib3~=2.4.0 in c:\\users\\lmendesb\\appdata\\local\\programs\\python\\python313\\lib\\site-packages (from urllib3[socks]~=2.4.0->selenium) (2.4.0)\n",
      "Requirement already satisfied: trio~=0.30.0 in c:\\users\\lmendesb\\appdata\\local\\programs\\python\\python313\\lib\\site-packages (from selenium) (0.30.0)\n",
      "Requirement already satisfied: trio-websocket~=0.12.2 in c:\\users\\lmendesb\\appdata\\local\\programs\\python\\python313\\lib\\site-packages (from selenium) (0.12.2)\n",
      "Requirement already satisfied: certifi>=2025.4.26 in c:\\users\\lmendesb\\appdata\\local\\programs\\python\\python313\\lib\\site-packages (from selenium) (2025.6.15)\n",
      "Requirement already satisfied: typing_extensions~=4.13.2 in c:\\users\\lmendesb\\appdata\\local\\programs\\python\\python313\\lib\\site-packages (from selenium) (4.13.2)\n",
      "Requirement already satisfied: websocket-client~=1.8.0 in c:\\users\\lmendesb\\appdata\\local\\programs\\python\\python313\\lib\\site-packages (from selenium) (1.8.0)\n",
      "Requirement already satisfied: attrs>=23.2.0 in c:\\users\\lmendesb\\appdata\\local\\programs\\python\\python313\\lib\\site-packages (from trio~=0.30.0->selenium) (25.3.0)\n",
      "Requirement already satisfied: sortedcontainers in c:\\users\\lmendesb\\appdata\\local\\programs\\python\\python313\\lib\\site-packages (from trio~=0.30.0->selenium) (2.4.0)\n",
      "Requirement already satisfied: idna in c:\\users\\lmendesb\\appdata\\local\\programs\\python\\python313\\lib\\site-packages (from trio~=0.30.0->selenium) (3.10)\n",
      "Requirement already satisfied: outcome in c:\\users\\lmendesb\\appdata\\local\\programs\\python\\python313\\lib\\site-packages (from trio~=0.30.0->selenium) (1.3.0.post0)\n",
      "Requirement already satisfied: sniffio>=1.3.0 in c:\\users\\lmendesb\\appdata\\local\\programs\\python\\python313\\lib\\site-packages (from trio~=0.30.0->selenium) (1.3.1)\n",
      "Requirement already satisfied: cffi>=1.14 in c:\\users\\lmendesb\\appdata\\local\\programs\\python\\python313\\lib\\site-packages (from trio~=0.30.0->selenium) (1.17.1)\n",
      "Requirement already satisfied: wsproto>=0.14 in c:\\users\\lmendesb\\appdata\\local\\programs\\python\\python313\\lib\\site-packages (from trio-websocket~=0.12.2->selenium) (1.2.0)\n",
      "Requirement already satisfied: pysocks!=1.5.7,<2.0,>=1.5.6 in c:\\users\\lmendesb\\appdata\\local\\programs\\python\\python313\\lib\\site-packages (from urllib3[socks]~=2.4.0->selenium) (1.7.1)\n",
      "Requirement already satisfied: pycparser in c:\\users\\lmendesb\\appdata\\local\\programs\\python\\python313\\lib\\site-packages (from cffi>=1.14->trio~=0.30.0->selenium) (2.22)\n",
      "Requirement already satisfied: h11<1,>=0.9.0 in c:\\users\\lmendesb\\appdata\\local\\programs\\python\\python313\\lib\\site-packages (from wsproto>=0.14->trio-websocket~=0.12.2->selenium) (0.16.0)\n"
     ]
    },
    {
     "name": "stderr",
     "output_type": "stream",
     "text": [
      "\n",
      "[notice] A new release of pip is available: 24.3.1 -> 25.1.1\n",
      "[notice] To update, run: python.exe -m pip install --upgrade pip\n"
     ]
    },
    {
     "name": "stdout",
     "output_type": "stream",
     "text": [
      "Requirement already satisfied: meraki in c:\\users\\lmendesb\\appdata\\local\\programs\\python\\python313\\lib\\site-packages (2.0.3)\n",
      "Requirement already satisfied: requests<3.0.0,>=2.32.2 in c:\\users\\lmendesb\\appdata\\local\\programs\\python\\python313\\lib\\site-packages (from meraki) (2.32.3)\n",
      "Requirement already satisfied: aiohttp<4.0.0,>=3.11.18 in c:\\users\\lmendesb\\appdata\\local\\programs\\python\\python313\\lib\\site-packages (from meraki) (3.12.13)\n",
      "Requirement already satisfied: jinja2==3.1.6 in c:\\users\\lmendesb\\appdata\\local\\programs\\python\\python313\\lib\\site-packages (from meraki) (3.1.6)\n",
      "Requirement already satisfied: pytest<9.0.0,>=8.3.5 in c:\\users\\lmendesb\\appdata\\local\\programs\\python\\python313\\lib\\site-packages (from meraki) (8.4.1)\n",
      "Requirement already satisfied: setuptools<79.0.0,>=78.1.1 in c:\\users\\lmendesb\\appdata\\local\\programs\\python\\python313\\lib\\site-packages (from meraki) (78.1.1)\n",
      "Requirement already satisfied: build<2.0.0,>=1.2.2.post1 in c:\\users\\lmendesb\\appdata\\local\\programs\\python\\python313\\lib\\site-packages (from meraki) (1.2.2.post1)\n",
      "Requirement already satisfied: wheel<0.46.0,>=0.45.1 in c:\\users\\lmendesb\\appdata\\local\\programs\\python\\python313\\lib\\site-packages (from meraki) (0.45.1)\n",
      "Requirement already satisfied: MarkupSafe>=2.0 in c:\\users\\lmendesb\\appdata\\local\\programs\\python\\python313\\lib\\site-packages (from jinja2==3.1.6->meraki) (3.0.2)\n",
      "Requirement already satisfied: aiohappyeyeballs>=2.5.0 in c:\\users\\lmendesb\\appdata\\local\\programs\\python\\python313\\lib\\site-packages (from aiohttp<4.0.0,>=3.11.18->meraki) (2.6.1)\n",
      "Requirement already satisfied: aiosignal>=1.1.2 in c:\\users\\lmendesb\\appdata\\local\\programs\\python\\python313\\lib\\site-packages (from aiohttp<4.0.0,>=3.11.18->meraki) (1.3.2)\n",
      "Requirement already satisfied: attrs>=17.3.0 in c:\\users\\lmendesb\\appdata\\local\\programs\\python\\python313\\lib\\site-packages (from aiohttp<4.0.0,>=3.11.18->meraki) (25.3.0)\n",
      "Requirement already satisfied: frozenlist>=1.1.1 in c:\\users\\lmendesb\\appdata\\local\\programs\\python\\python313\\lib\\site-packages (from aiohttp<4.0.0,>=3.11.18->meraki) (1.7.0)\n",
      "Requirement already satisfied: multidict<7.0,>=4.5 in c:\\users\\lmendesb\\appdata\\local\\programs\\python\\python313\\lib\\site-packages (from aiohttp<4.0.0,>=3.11.18->meraki) (6.5.0)\n",
      "Requirement already satisfied: propcache>=0.2.0 in c:\\users\\lmendesb\\appdata\\local\\programs\\python\\python313\\lib\\site-packages (from aiohttp<4.0.0,>=3.11.18->meraki) (0.3.2)\n",
      "Requirement already satisfied: yarl<2.0,>=1.17.0 in c:\\users\\lmendesb\\appdata\\local\\programs\\python\\python313\\lib\\site-packages (from aiohttp<4.0.0,>=3.11.18->meraki) (1.20.1)\n",
      "Requirement already satisfied: packaging>=19.1 in c:\\users\\lmendesb\\appdata\\roaming\\python\\python313\\site-packages (from build<2.0.0,>=1.2.2.post1->meraki) (25.0)\n",
      "Requirement already satisfied: pyproject_hooks in c:\\users\\lmendesb\\appdata\\local\\programs\\python\\python313\\lib\\site-packages (from build<2.0.0,>=1.2.2.post1->meraki) (1.2.0)\n",
      "Requirement already satisfied: colorama in c:\\users\\lmendesb\\appdata\\local\\programs\\python\\python313\\lib\\site-packages (from build<2.0.0,>=1.2.2.post1->meraki) (0.4.6)\n",
      "Requirement already satisfied: iniconfig>=1 in c:\\users\\lmendesb\\appdata\\local\\programs\\python\\python313\\lib\\site-packages (from pytest<9.0.0,>=8.3.5->meraki) (2.1.0)\n",
      "Requirement already satisfied: pluggy<2,>=1.5 in c:\\users\\lmendesb\\appdata\\local\\programs\\python\\python313\\lib\\site-packages (from pytest<9.0.0,>=8.3.5->meraki) (1.6.0)\n",
      "Requirement already satisfied: pygments>=2.7.2 in c:\\users\\lmendesb\\appdata\\roaming\\python\\python313\\site-packages (from pytest<9.0.0,>=8.3.5->meraki) (2.19.1)\n",
      "Requirement already satisfied: charset-normalizer<4,>=2 in c:\\users\\lmendesb\\appdata\\local\\programs\\python\\python313\\lib\\site-packages (from requests<3.0.0,>=2.32.2->meraki) (3.4.1)\n",
      "Requirement already satisfied: idna<4,>=2.5 in c:\\users\\lmendesb\\appdata\\local\\programs\\python\\python313\\lib\\site-packages (from requests<3.0.0,>=2.32.2->meraki) (3.10)\n",
      "Requirement already satisfied: urllib3<3,>=1.21.1 in c:\\users\\lmendesb\\appdata\\local\\programs\\python\\python313\\lib\\site-packages (from requests<3.0.0,>=2.32.2->meraki) (2.4.0)\n",
      "Requirement already satisfied: certifi>=2017.4.17 in c:\\users\\lmendesb\\appdata\\local\\programs\\python\\python313\\lib\\site-packages (from requests<3.0.0,>=2.32.2->meraki) (2025.6.15)\n"
     ]
    },
    {
     "name": "stderr",
     "output_type": "stream",
     "text": [
      "\n",
      "[notice] A new release of pip is available: 24.3.1 -> 25.1.1\n",
      "[notice] To update, run: python.exe -m pip install --upgrade pip\n"
     ]
    },
    {
     "name": "stdout",
     "output_type": "stream",
     "text": [
      "Requirement already satisfied: python-dotenv in c:\\users\\lmendesb\\appdata\\local\\programs\\python\\python313\\lib\\site-packages (1.1.0)\n"
     ]
    },
    {
     "name": "stderr",
     "output_type": "stream",
     "text": [
      "\n",
      "[notice] A new release of pip is available: 24.3.1 -> 25.1.1\n",
      "[notice] To update, run: python.exe -m pip install --upgrade pip\n"
     ]
    },
    {
     "name": "stdout",
     "output_type": "stream",
     "text": [
      "Collecting beautifulsoup4\n",
      "  Downloading beautifulsoup4-4.13.4-py3-none-any.whl.metadata (3.8 kB)\n",
      "Collecting soupsieve>1.2 (from beautifulsoup4)\n",
      "  Downloading soupsieve-2.7-py3-none-any.whl.metadata (4.6 kB)\n",
      "Requirement already satisfied: typing-extensions>=4.0.0 in c:\\users\\lmendesb\\appdata\\local\\programs\\python\\python313\\lib\\site-packages (from beautifulsoup4) (4.13.2)\n",
      "Downloading beautifulsoup4-4.13.4-py3-none-any.whl (187 kB)\n",
      "Downloading soupsieve-2.7-py3-none-any.whl (36 kB)\n",
      "Installing collected packages: soupsieve, beautifulsoup4\n",
      "Successfully installed beautifulsoup4-4.13.4 soupsieve-2.7\n"
     ]
    },
    {
     "name": "stderr",
     "output_type": "stream",
     "text": [
      "\n",
      "[notice] A new release of pip is available: 24.3.1 -> 25.1.1\n",
      "[notice] To update, run: python.exe -m pip install --upgrade pip\n"
     ]
    }
   ],
   "source": [
    "!pip install selenium\n",
    "!pip install meraki\n",
    "!pip install python-dotenv\n",
    "!pip install beautifulsoup4"
   ]
  },
  {
   "cell_type": "code",
   "execution_count": 1,
   "id": "0a47b548",
   "metadata": {},
   "outputs": [
    {
     "data": {
      "text/plain": [
       "True"
      ]
     },
     "execution_count": 1,
     "metadata": {},
     "output_type": "execute_result"
    }
   ],
   "source": [
    "import os\n",
    "import dotenv\n",
    "\n",
    "dotenv.load_dotenv()"
   ]
  },
  {
   "cell_type": "code",
   "execution_count": 2,
   "id": "83fd3336",
   "metadata": {},
   "outputs": [],
   "source": [
    "import meraki"
   ]
  },
  {
   "cell_type": "code",
   "execution_count": 3,
   "id": "2d95c086",
   "metadata": {},
   "outputs": [
    {
     "name": "stderr",
     "output_type": "stream",
     "text": [
      "2025-06-30 14:00:13       meraki:     INFO > Meraki dashboard API session initialized with these parameters: {'version': '2.0.3', 'api_key': '************************************a606', 'base_url': 'https://api.meraki.com/api/v1', 'single_request_timeout': 60, 'certificate_path': '', 'requests_proxy': '', 'wait_on_rate_limit': True, 'nginx_429_retry_wait_time': 60, 'action_batch_retry_wait_time': 60, 'network_delete_retry_wait_time': 240, 'retry_4xx_error': False, 'retry_4xx_error_wait_time': 60, 'maximum_retries': 2, 'simulate': False, 'be_geo_id': None, 'caller': None, 'use_iterator_for_get_pages': False}\n"
     ]
    }
   ],
   "source": [
    "dashboard = meraki.DashboardAPI()"
   ]
  },
  {
   "cell_type": "code",
   "execution_count": 4,
   "id": "24a717d4",
   "metadata": {},
   "outputs": [
    {
     "name": "stderr",
     "output_type": "stream",
     "text": [
      "2025-06-30 14:00:19       meraki:     INFO > GET https://api.meraki.com/api/v1/organizations\n",
      "2025-06-30 14:00:19       meraki:     INFO > organizations, getOrganizations; page 1 - 200 OK\n"
     ]
    }
   ],
   "source": [
    "my_orgs = dashboard.organizations.getOrganizations()"
   ]
  },
  {
   "cell_type": "code",
   "execution_count": 89,
   "id": "a80c901e",
   "metadata": {},
   "outputs": [
    {
     "name": "stdout",
     "output_type": "stream",
     "text": [
      "Organization ID: 303246, Name: Cisco IC-Rio, URL: https://n30.meraki.com/o/FciXOa/manage/organization/overview\n",
      "Organization ID: 966562, Name: FIT Monitor Escola Digital, URL: https://n515.meraki.com/o/mdY4oc/manage/organization/overview\n",
      "Organization ID: 1240580, Name: DKC - Organization, URL: https://n570.meraki.com/o/XcsGXc/manage/organization/overview\n",
      "Organization ID: 1550639, Name: Ânima Educação, URL: https://n490.meraki.com/o/8i0rNb/manage/organization/overview\n",
      "Organization ID: 1605887, Name: ANIMA, URL: https://n570.meraki.com/o/xn5Qrc/manage/organization/overview\n",
      "Organization ID: 1606310, Name: Cisco Connect Cancun 2024, URL: https://n570.meraki.com/o/mfAUZa/manage/organization/overview\n",
      "Organization ID: 579838452023954563, Name: Cisco Labs, URL: https://n30.meraki.com/o/-R3J4bE/manage/organization/overview\n",
      "Organization ID: 635570497412664808, Name: Lab Test, URL: https://n515.meraki.com/o/7MNxFdbc/manage/organization/overview\n",
      "Organization ID: 706502191543749781, Name: Cisco Plus Secure Connect demo, URL: https://n255.meraki.com/o/BR-wka_d/manage/organization/overview\n"
     ]
    }
   ],
   "source": [
    "for org in my_orgs:\n",
    "    print(f\"Organization ID: {org['id']}, Name: {org['name']}, URL: {org['url']}\")"
   ]
  },
  {
   "cell_type": "code",
   "execution_count": 91,
   "id": "c0bfd2e1",
   "metadata": {},
   "outputs": [
    {
     "name": "stdout",
     "output_type": "stream",
     "text": [
      "CIL Lab Test URL: https://n30.meraki.com/o/-R3J4bE/manage/organization/overview\n"
     ]
    }
   ],
   "source": [
    "CIL_LAB_TEST_URL = my_orgs[6]['url']\n",
    "print(f\"CIL Lab Test URL: {CIL_LAB_TEST_URL}\")"
   ]
  },
  {
   "cell_type": "code",
   "execution_count": 93,
   "id": "9f0243be",
   "metadata": {},
   "outputs": [
    {
     "name": "stderr",
     "output_type": "stream",
     "text": [
      "2025-06-18 12:38:19       meraki:     INFO > GET https://api.meraki.com/api/v1/organizations/579838452023954563/networks\n",
      "2025-06-18 12:38:20       meraki:     INFO > organizations, getOrganizationNetworks; page 1 - 200 OK\n"
     ]
    },
    {
     "name": "stdout",
     "output_type": "stream",
     "text": [
      "Network ID: L_579838452023959405, Name: SPL1-CIL-PROD-LAB, url: https://n30.meraki.com/SPL1-CIL-PROD-LA/n/Q9S8tbE/manage/clients \n",
      "Network ID: L_579838452023962038, Name: DC-MERAKI-SDWAN-LAB, url: https://n30.meraki.com/DC-MERAKI-SDWAN-/n/UNRoTbE/manage/clients \n",
      "Network ID: L_579838452023962447, Name: RJ-Lab, url: https://n30.meraki.com/RJ-Lab-switch/n/dHS9rbE/manage/clients \n",
      "Network ID: N_579838452024000389, Name: BR-MERAKI-SDWAN-LAB, url: https://n30.meraki.com/BR-MERAKI-SDWAN-/n/bDfXrbE/manage/clients \n"
     ]
    }
   ],
   "source": [
    "networks_list = dashboard.organizations.getOrganizationNetworks(my_orgs[6]['id'])\n",
    "for network in networks_list:\n",
    "    print(f\"Network ID: {network['id']}, Name: {network['name']}, url: {network['url']} \")"
   ]
  },
  {
   "cell_type": "code",
   "execution_count": 102,
   "id": "0f174556",
   "metadata": {},
   "outputs": [
    {
     "name": "stderr",
     "output_type": "stream",
     "text": [
      "2025-06-18 13:48:53       meraki:     INFO > GET https://api.meraki.com/api/v1/organizations/579838452023954563/inventory/devices\n",
      "2025-06-18 13:48:53       meraki:     INFO > organizations, getOrganizationInventoryDevices; page 1 - 200 OK\n"
     ]
    },
    {
     "name": "stdout",
     "output_type": "stream",
     "text": [
      "Camera ID: Q2HV-3BGR-F7XK, Model: MV22, Name: MV22\n",
      "Camera ID: Q2NV-ZUFG-J7ML, Model: MV2, Name: MV2\n",
      "Camera ID: Q2UW-P6UW-VRUN, Model: MV63X, Name: MV63\n"
     ]
    }
   ],
   "source": [
    "camera_list = dashboard.organizations.getOrganizationInventoryDevices(my_orgs[6]['id'])\n",
    "list_camera = []\n",
    "for camera in camera_list:\n",
    "    if camera['model'].startswith('MV'):\n",
    "        print(f\"Camera ID: {camera['serial']}, Model: {camera['model']}, Name: {camera['name']}\")\n",
    "        list_camera.append(camera['serial'])"
   ]
  },
  {
   "cell_type": "code",
   "execution_count": 107,
   "id": "b2b4c4bb",
   "metadata": {},
   "outputs": [
    {
     "name": "stderr",
     "output_type": "stream",
     "text": [
      "2025-06-18 13:50:59       meraki:     INFO > GET https://api.meraki.com/api/v1/devices/Q2HV-3BGR-F7XK/camera/videoLink\n",
      "2025-06-18 13:50:59       meraki:     INFO > camera, getDeviceCameraVideoLink - 200 OK\n"
     ]
    },
    {
     "name": "stdout",
     "output_type": "stream",
     "text": [
      "Video URL: https://n30.meraki.com/SPL1-CIL-PROD-LA/n/7DYfIbE/manage/nodes/new_list/185021238247241\n"
     ]
    }
   ],
   "source": [
    "video_url = dashboard.camera.getDeviceCameraVideoLink(list_camera[0])\n",
    "print(f\"Video URL: {video_url['url']}\")"
   ]
  },
  {
   "cell_type": "code",
   "execution_count": 108,
   "id": "ed990b8d",
   "metadata": {},
   "outputs": [],
   "source": [
    "from selenium import webdriver\n",
    "from selenium.webdriver.common.by import By"
   ]
  },
  {
   "cell_type": "code",
   "execution_count": 109,
   "id": "bea03954",
   "metadata": {},
   "outputs": [],
   "source": [
    "driver = webdriver.Chrome()\n",
    "driver.get(\"https://account.meraki.com/login/\")"
   ]
  },
  {
   "cell_type": "code",
   "execution_count": 110,
   "id": "b80fb1ac",
   "metadata": {},
   "outputs": [],
   "source": [
    "title = driver.title"
   ]
  },
  {
   "cell_type": "code",
   "execution_count": 111,
   "id": "3daa7248",
   "metadata": {},
   "outputs": [],
   "source": [
    "driver.implicitly_wait(0.5)"
   ]
  },
  {
   "cell_type": "code",
   "execution_count": 112,
   "id": "add5987d",
   "metadata": {},
   "outputs": [],
   "source": [
    "#text_box = driver.find_element(by=By.NAME, value=\"my-text\")\n",
    "text_box = driver.find_element(by=By.NAME, value=\"email\")\n",
    "submit_button = driver.find_element(by=By.CSS_SELECTOR, value=\"button\")"
   ]
  },
  {
   "cell_type": "code",
   "execution_count": 114,
   "id": "4b16f18a",
   "metadata": {},
   "outputs": [],
   "source": [
    "next_button = driver.find_element(By.XPATH, \"//button[normalize-space(text())='Next']\")"
   ]
  },
  {
   "cell_type": "code",
   "execution_count": null,
   "id": "46627b5f",
   "metadata": {},
   "outputs": [],
   "source": [
    "text_box.send_keys(\"\")\n",
    "next_button.click()"
   ]
  },
  {
   "cell_type": "code",
   "execution_count": 117,
   "id": "f17dfd1f",
   "metadata": {},
   "outputs": [],
   "source": [
    "signin_personal_button = driver.find_element(By.XPATH, \"//button[normalize-space(text())='Sign in to personal account']\")"
   ]
  },
  {
   "cell_type": "code",
   "execution_count": 118,
   "id": "f0dd104a",
   "metadata": {},
   "outputs": [],
   "source": [
    "signin_personal_button.click()"
   ]
  },
  {
   "cell_type": "code",
   "execution_count": 119,
   "id": "f5de5585",
   "metadata": {},
   "outputs": [],
   "source": [
    "input_password = driver.find_element(by=By.CSS_SELECTOR, value=\"input[type='password']\")"
   ]
  },
  {
   "cell_type": "code",
   "execution_count": null,
   "id": "a6643103",
   "metadata": {},
   "outputs": [],
   "source": [
    "input_password.send_keys(\"\")"
   ]
  },
  {
   "cell_type": "code",
   "execution_count": 121,
   "id": "f714b9a1",
   "metadata": {},
   "outputs": [],
   "source": [
    "signin_account_button = driver.find_element(By.XPATH, \"//button[normalize-space(text())='Sign in']\")"
   ]
  },
  {
   "cell_type": "code",
   "execution_count": 122,
   "id": "8214713e",
   "metadata": {},
   "outputs": [],
   "source": [
    "signin_account_button.click()"
   ]
  },
  {
   "cell_type": "code",
   "execution_count": null,
   "id": "d9c2bf1e",
   "metadata": {},
   "outputs": [
    {
     "name": "stdout",
     "output_type": "stream",
     "text": [
      "https://n30.meraki.com/SPL1-CIL-PROD-LA/n/7DYfIbE/manage/nodes/new_list/185021238247241\n"
     ]
    }
   ],
   "source": [
    "print(video_url['url'])"
   ]
  },
  {
   "cell_type": "code",
   "execution_count": null,
   "id": "82e936e3",
   "metadata": {},
   "outputs": [],
   "source": [
    "\n",
    "driver.get(f\"{video_url['url']}/settings/qualityRetention\")"
   ]
  },
  {
   "cell_type": "code",
   "execution_count": 175,
   "id": "ece5fd56",
   "metadata": {},
   "outputs": [],
   "source": [
    "main_content = driver.find_element(By.CLASS_NAME, \"retentionDays\")"
   ]
  },
  {
   "cell_type": "code",
   "execution_count": 177,
   "id": "49dd8e6b",
   "metadata": {},
   "outputs": [
    {
     "name": "stdout",
     "output_type": "stream",
     "text": [
      "32 days\n"
     ]
    }
   ],
   "source": [
    "print(main_content.text)"
   ]
  },
  {
   "cell_type": "code",
   "execution_count": 72,
   "id": "6c1d7980",
   "metadata": {},
   "outputs": [],
   "source": [
    "driver.quit()"
   ]
  }
 ],
 "metadata": {
  "kernelspec": {
   "display_name": "Python 3",
   "language": "python",
   "name": "python3"
  },
  "language_info": {
   "codemirror_mode": {
    "name": "ipython",
    "version": 3
   },
   "file_extension": ".py",
   "mimetype": "text/x-python",
   "name": "python",
   "nbconvert_exporter": "python",
   "pygments_lexer": "ipython3",
   "version": "3.13.2"
  }
 },
 "nbformat": 4,
 "nbformat_minor": 5
}
